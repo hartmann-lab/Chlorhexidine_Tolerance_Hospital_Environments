{
 "cells": [
  {
   "cell_type": "code",
   "execution_count": 20,
   "metadata": {},
   "outputs": [
    {
     "data": {
      "text/plain": [
       "'/projects/p30892/chx_wgs'"
      ]
     },
     "execution_count": 20,
     "metadata": {},
     "output_type": "execute_result"
    }
   ],
   "source": [
    "import os\n",
    "import glob\n",
    "import argparse\n",
    "import pandas as pd\n",
    "import numpy as np\n",
    "\n",
    "wkdir = '/projects/p30892/chx_wgs'\n",
    "os.chdir(wkdir)\n",
    "\n",
    "os.getcwd()"
   ]
  },
  {
   "cell_type": "code",
   "execution_count": 22,
   "metadata": {},
   "outputs": [],
   "source": [
    "sample_list = np.loadtxt(wkdir + \"/\" + \"config/sample_sheet_simple_selected.tsv\", delimiter=\"\\t\", dtype=str)\n",
    "\n",
    "for ii in sample_list:\n",
    "    path_input = wkdir + \"/\" + \"phylophlan_metagenomic_out_just_reports/\" + ii + \".tsv\"\n",
    "    input = pd.read_csv(path_input, sep='\\t', header=\"infer\", index_col=0)\n",
    "    output = input.T\n",
    "    input[0,0]=ii\n",
    "    path_output = wkdir + \"/\" + \"phylophlan_metagenomic_out_just_reports/\" + ii + \"_t.tsv\"\n",
    "    output.to_csv(path_output, sep=\"\\t\", index = False)"
   ]
  },
  {
   "cell_type": "code",
   "execution_count": 18,
   "metadata": {},
   "outputs": [
    {
     "data": {
      "text/html": [
       "<div>\n",
       "<style scoped>\n",
       "    .dataframe tbody tr th:only-of-type {\n",
       "        vertical-align: middle;\n",
       "    }\n",
       "\n",
       "    .dataframe tbody tr th {\n",
       "        vertical-align: top;\n",
       "    }\n",
       "\n",
       "    .dataframe thead th {\n",
       "        text-align: right;\n",
       "    }\n",
       "</style>\n",
       "<table border=\"1\" class=\"dataframe\">\n",
       "  <thead>\n",
       "    <tr style=\"text-align: right;\">\n",
       "      <th></th>\n",
       "      <th>0</th>\n",
       "      <th>1</th>\n",
       "    </tr>\n",
       "  </thead>\n",
       "  <tbody>\n",
       "    <tr>\n",
       "      <th>0</th>\n",
       "      <td>#input_bin</td>\n",
       "      <td>scaffolds</td>\n",
       "    </tr>\n",
       "    <tr>\n",
       "      <th>1</th>\n",
       "      <td>[u|k]_[S|G|F]GBid:taxa_level:taxonomy:avg_dist</td>\n",
       "      <td>kSGB_12453:Species:k__Bacteria|p__Proteobacter...</td>\n",
       "    </tr>\n",
       "    <tr>\n",
       "      <th>2</th>\n",
       "      <td>[u|k]_[S|G|F]GBid:taxa_level:taxonomy:avg_dist</td>\n",
       "      <td>kSGB_12454:Species:k__Bacteria|p__Proteobacter...</td>\n",
       "    </tr>\n",
       "    <tr>\n",
       "      <th>3</th>\n",
       "      <td>[u|k]_[S|G|F]GBid:taxa_level:taxonomy:avg_dist</td>\n",
       "      <td>kSGB_12452:Species:k__Bacteria|p__Proteobacter...</td>\n",
       "    </tr>\n",
       "    <tr>\n",
       "      <th>4</th>\n",
       "      <td>[u|k]_[S|G|F]GBid:taxa_level:taxonomy:avg_dist</td>\n",
       "      <td>kSGB_12456:Species:k__Bacteria|p__Proteobacter...</td>\n",
       "    </tr>\n",
       "    <tr>\n",
       "      <th>5</th>\n",
       "      <td>[u|k]_[S|G|F]GBid:taxa_level:taxonomy:avg_dist</td>\n",
       "      <td>kSGB_12451:Species:k__Bacteria|p__Proteobacter...</td>\n",
       "    </tr>\n",
       "    <tr>\n",
       "      <th>6</th>\n",
       "      <td>[u|k]_[S|G|F]GBid:taxa_level:taxonomy:avg_dist</td>\n",
       "      <td>kSGB_12459:Species:k__Bacteria|p__Proteobacter...</td>\n",
       "    </tr>\n",
       "  </tbody>\n",
       "</table>\n",
       "</div>"
      ],
      "text/plain": [
       "                                                0  \\\n",
       "0                                      #input_bin   \n",
       "1  [u|k]_[S|G|F]GBid:taxa_level:taxonomy:avg_dist   \n",
       "2  [u|k]_[S|G|F]GBid:taxa_level:taxonomy:avg_dist   \n",
       "3  [u|k]_[S|G|F]GBid:taxa_level:taxonomy:avg_dist   \n",
       "4  [u|k]_[S|G|F]GBid:taxa_level:taxonomy:avg_dist   \n",
       "5  [u|k]_[S|G|F]GBid:taxa_level:taxonomy:avg_dist   \n",
       "6  [u|k]_[S|G|F]GBid:taxa_level:taxonomy:avg_dist   \n",
       "\n",
       "                                                   1  \n",
       "0                                          scaffolds  \n",
       "1  kSGB_12453:Species:k__Bacteria|p__Proteobacter...  \n",
       "2  kSGB_12454:Species:k__Bacteria|p__Proteobacter...  \n",
       "3  kSGB_12452:Species:k__Bacteria|p__Proteobacter...  \n",
       "4  kSGB_12456:Species:k__Bacteria|p__Proteobacter...  \n",
       "5  kSGB_12451:Species:k__Bacteria|p__Proteobacter...  \n",
       "6  kSGB_12459:Species:k__Bacteria|p__Proteobacter...  "
      ]
     },
     "execution_count": 18,
     "metadata": {},
     "output_type": "execute_result"
    }
   ],
   "source": []
  },
  {
   "cell_type": "code",
   "execution_count": 19,
   "metadata": {},
   "outputs": [],
   "source": []
  },
  {
   "cell_type": "code",
   "execution_count": 26,
   "metadata": {},
   "outputs": [
    {
     "name": "stdout",
     "output_type": "stream",
     "text": [
      "merged_table/test.tsv\n"
     ]
    }
   ],
   "source": []
  },
  {
   "cell_type": "code",
   "execution_count": null,
   "metadata": {},
   "outputs": [],
   "source": []
  },
  {
   "cell_type": "code",
   "execution_count": 30,
   "metadata": {},
   "outputs": [],
   "source": []
  }
 ],
 "metadata": {
  "kernelspec": {
   "display_name": "Python 3",
   "language": "python",
   "name": "python3"
  },
  "language_info": {
   "codemirror_mode": {
    "name": "ipython",
    "version": 3
   },
   "file_extension": ".py",
   "mimetype": "text/x-python",
   "name": "python",
   "nbconvert_exporter": "python",
   "pygments_lexer": "ipython3",
   "version": "3.7.1"
  }
 },
 "nbformat": 4,
 "nbformat_minor": 2
}
